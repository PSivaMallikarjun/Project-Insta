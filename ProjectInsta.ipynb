{
  "nbformat": 4,
  "nbformat_minor": 0,
  "metadata": {
    "colab": {
      "provenance": [],
      "authorship_tag": "ABX9TyNqwp8lS+etX5ixz2eNtifM",
      "include_colab_link": true
    },
    "kernelspec": {
      "name": "python3",
      "display_name": "Python 3"
    },
    "language_info": {
      "name": "python"
    }
  },
  "cells": [
    {
      "cell_type": "markdown",
      "metadata": {
        "id": "view-in-github",
        "colab_type": "text"
      },
      "source": [
        "<a href=\"https://colab.research.google.com/github/PSivaMallikarjun/Project-Insta/blob/main/ProjectInsta.ipynb\" target=\"_parent\"><img src=\"https://colab.research.google.com/assets/colab-badge.svg\" alt=\"Open In Colab\"/></a>"
      ]
    },
    {
      "cell_type": "markdown",
      "source": [
        "# Live-Action Tracker for Project Instaneous Insights Tracker\n",
        "\n"
      ],
      "metadata": {
        "id": "9b6ZOiPj5tOJ"
      }
    },
    {
      "cell_type": "markdown",
      "source": [
        "* This is a project management dashboard built using Gradio in Google Colab. It helps teams track tasks, monitor progress, and communicate live."
      ],
      "metadata": {
        "id": "Tv_cEukO588D"
      }
    },
    {
      "cell_type": "markdown",
      "source": [
        "* What It Does?\n",
        "\n",
        "* 1️⃣ Add a Task → Employees enter their task, status, and estimated time\n",
        "* 2️⃣ View Progress → A line graph shows actual vs predicted time for all tasks\n",
        "* 3️⃣ Live Comments → Team members can discuss and collaborate\n",
        "\n"
      ],
      "metadata": {
        "id": "grUcAchA6I7Y"
      }
    },
    {
      "cell_type": "code",
      "source": [
        "! pip install gradio pandas plotly"
      ],
      "metadata": {
        "colab": {
          "base_uri": "https://localhost:8080/"
        },
        "id": "ZYUcR98quVH1",
        "outputId": "247c7b0b-1839-4a2b-d798-8cd02b9126e4"
      },
      "execution_count": 11,
      "outputs": [
        {
          "output_type": "stream",
          "name": "stdout",
          "text": [
            "Collecting gradio\n",
            "  Downloading gradio-5.23.0-py3-none-any.whl.metadata (16 kB)\n",
            "Requirement already satisfied: pandas in /usr/local/lib/python3.11/dist-packages (2.2.2)\n",
            "Requirement already satisfied: plotly in /usr/local/lib/python3.11/dist-packages (5.24.1)\n",
            "Collecting aiofiles<24.0,>=22.0 (from gradio)\n",
            "  Downloading aiofiles-23.2.1-py3-none-any.whl.metadata (9.7 kB)\n",
            "Requirement already satisfied: anyio<5.0,>=3.0 in /usr/local/lib/python3.11/dist-packages (from gradio) (4.9.0)\n",
            "Collecting fastapi<1.0,>=0.115.2 (from gradio)\n",
            "  Downloading fastapi-0.115.12-py3-none-any.whl.metadata (27 kB)\n",
            "Collecting ffmpy (from gradio)\n",
            "  Downloading ffmpy-0.5.0-py3-none-any.whl.metadata (3.0 kB)\n",
            "Collecting gradio-client==1.8.0 (from gradio)\n",
            "  Downloading gradio_client-1.8.0-py3-none-any.whl.metadata (7.1 kB)\n",
            "Collecting groovy~=0.1 (from gradio)\n",
            "  Downloading groovy-0.1.2-py3-none-any.whl.metadata (6.1 kB)\n",
            "Requirement already satisfied: httpx>=0.24.1 in /usr/local/lib/python3.11/dist-packages (from gradio) (0.28.1)\n",
            "Requirement already satisfied: huggingface-hub>=0.28.1 in /usr/local/lib/python3.11/dist-packages (from gradio) (0.29.3)\n",
            "Requirement already satisfied: jinja2<4.0 in /usr/local/lib/python3.11/dist-packages (from gradio) (3.1.6)\n",
            "Requirement already satisfied: markupsafe<4.0,>=2.0 in /usr/local/lib/python3.11/dist-packages (from gradio) (3.0.2)\n",
            "Requirement already satisfied: numpy<3.0,>=1.0 in /usr/local/lib/python3.11/dist-packages (from gradio) (2.0.2)\n",
            "Requirement already satisfied: orjson~=3.0 in /usr/local/lib/python3.11/dist-packages (from gradio) (3.10.15)\n",
            "Requirement already satisfied: packaging in /usr/local/lib/python3.11/dist-packages (from gradio) (24.2)\n",
            "Requirement already satisfied: pillow<12.0,>=8.0 in /usr/local/lib/python3.11/dist-packages (from gradio) (11.1.0)\n",
            "Requirement already satisfied: pydantic>=2.0 in /usr/local/lib/python3.11/dist-packages (from gradio) (2.10.6)\n",
            "Collecting pydub (from gradio)\n",
            "  Downloading pydub-0.25.1-py2.py3-none-any.whl.metadata (1.4 kB)\n",
            "Collecting python-multipart>=0.0.18 (from gradio)\n",
            "  Downloading python_multipart-0.0.20-py3-none-any.whl.metadata (1.8 kB)\n",
            "Requirement already satisfied: pyyaml<7.0,>=5.0 in /usr/local/lib/python3.11/dist-packages (from gradio) (6.0.2)\n",
            "Collecting ruff>=0.9.3 (from gradio)\n",
            "  Downloading ruff-0.11.2-py3-none-manylinux_2_17_x86_64.manylinux2014_x86_64.whl.metadata (25 kB)\n",
            "Collecting safehttpx<0.2.0,>=0.1.6 (from gradio)\n",
            "  Downloading safehttpx-0.1.6-py3-none-any.whl.metadata (4.2 kB)\n",
            "Collecting semantic-version~=2.0 (from gradio)\n",
            "  Downloading semantic_version-2.10.0-py2.py3-none-any.whl.metadata (9.7 kB)\n",
            "Collecting starlette<1.0,>=0.40.0 (from gradio)\n",
            "  Downloading starlette-0.46.1-py3-none-any.whl.metadata (6.2 kB)\n",
            "Collecting tomlkit<0.14.0,>=0.12.0 (from gradio)\n",
            "  Downloading tomlkit-0.13.2-py3-none-any.whl.metadata (2.7 kB)\n",
            "Requirement already satisfied: typer<1.0,>=0.12 in /usr/local/lib/python3.11/dist-packages (from gradio) (0.15.2)\n",
            "Requirement already satisfied: typing-extensions~=4.0 in /usr/local/lib/python3.11/dist-packages (from gradio) (4.12.2)\n",
            "Collecting uvicorn>=0.14.0 (from gradio)\n",
            "  Downloading uvicorn-0.34.0-py3-none-any.whl.metadata (6.5 kB)\n",
            "Requirement already satisfied: fsspec in /usr/local/lib/python3.11/dist-packages (from gradio-client==1.8.0->gradio) (2025.3.0)\n",
            "Requirement already satisfied: websockets<16.0,>=10.0 in /usr/local/lib/python3.11/dist-packages (from gradio-client==1.8.0->gradio) (15.0.1)\n",
            "Requirement already satisfied: python-dateutil>=2.8.2 in /usr/local/lib/python3.11/dist-packages (from pandas) (2.8.2)\n",
            "Requirement already satisfied: pytz>=2020.1 in /usr/local/lib/python3.11/dist-packages (from pandas) (2025.1)\n",
            "Requirement already satisfied: tzdata>=2022.7 in /usr/local/lib/python3.11/dist-packages (from pandas) (2025.1)\n",
            "Requirement already satisfied: tenacity>=6.2.0 in /usr/local/lib/python3.11/dist-packages (from plotly) (9.0.0)\n",
            "Requirement already satisfied: idna>=2.8 in /usr/local/lib/python3.11/dist-packages (from anyio<5.0,>=3.0->gradio) (3.10)\n",
            "Requirement already satisfied: sniffio>=1.1 in /usr/local/lib/python3.11/dist-packages (from anyio<5.0,>=3.0->gradio) (1.3.1)\n",
            "Requirement already satisfied: certifi in /usr/local/lib/python3.11/dist-packages (from httpx>=0.24.1->gradio) (2025.1.31)\n",
            "Requirement already satisfied: httpcore==1.* in /usr/local/lib/python3.11/dist-packages (from httpx>=0.24.1->gradio) (1.0.7)\n",
            "Requirement already satisfied: h11<0.15,>=0.13 in /usr/local/lib/python3.11/dist-packages (from httpcore==1.*->httpx>=0.24.1->gradio) (0.14.0)\n",
            "Requirement already satisfied: filelock in /usr/local/lib/python3.11/dist-packages (from huggingface-hub>=0.28.1->gradio) (3.18.0)\n",
            "Requirement already satisfied: requests in /usr/local/lib/python3.11/dist-packages (from huggingface-hub>=0.28.1->gradio) (2.32.3)\n",
            "Requirement already satisfied: tqdm>=4.42.1 in /usr/local/lib/python3.11/dist-packages (from huggingface-hub>=0.28.1->gradio) (4.67.1)\n",
            "Requirement already satisfied: annotated-types>=0.6.0 in /usr/local/lib/python3.11/dist-packages (from pydantic>=2.0->gradio) (0.7.0)\n",
            "Requirement already satisfied: pydantic-core==2.27.2 in /usr/local/lib/python3.11/dist-packages (from pydantic>=2.0->gradio) (2.27.2)\n",
            "Requirement already satisfied: six>=1.5 in /usr/local/lib/python3.11/dist-packages (from python-dateutil>=2.8.2->pandas) (1.17.0)\n",
            "Requirement already satisfied: click>=8.0.0 in /usr/local/lib/python3.11/dist-packages (from typer<1.0,>=0.12->gradio) (8.1.8)\n",
            "Requirement already satisfied: shellingham>=1.3.0 in /usr/local/lib/python3.11/dist-packages (from typer<1.0,>=0.12->gradio) (1.5.4)\n",
            "Requirement already satisfied: rich>=10.11.0 in /usr/local/lib/python3.11/dist-packages (from typer<1.0,>=0.12->gradio) (13.9.4)\n",
            "Requirement already satisfied: markdown-it-py>=2.2.0 in /usr/local/lib/python3.11/dist-packages (from rich>=10.11.0->typer<1.0,>=0.12->gradio) (3.0.0)\n",
            "Requirement already satisfied: pygments<3.0.0,>=2.13.0 in /usr/local/lib/python3.11/dist-packages (from rich>=10.11.0->typer<1.0,>=0.12->gradio) (2.18.0)\n",
            "Requirement already satisfied: charset-normalizer<4,>=2 in /usr/local/lib/python3.11/dist-packages (from requests->huggingface-hub>=0.28.1->gradio) (3.4.1)\n",
            "Requirement already satisfied: urllib3<3,>=1.21.1 in /usr/local/lib/python3.11/dist-packages (from requests->huggingface-hub>=0.28.1->gradio) (2.3.0)\n",
            "Requirement already satisfied: mdurl~=0.1 in /usr/local/lib/python3.11/dist-packages (from markdown-it-py>=2.2.0->rich>=10.11.0->typer<1.0,>=0.12->gradio) (0.1.2)\n",
            "Downloading gradio-5.23.0-py3-none-any.whl (51.3 MB)\n",
            "\u001b[2K   \u001b[90m━━━━━━━━━━━━━━━━━━━━━━━━━━━━━━━━━━━━━━━━\u001b[0m \u001b[32m51.3/51.3 MB\u001b[0m \u001b[31m11.4 MB/s\u001b[0m eta \u001b[36m0:00:00\u001b[0m\n",
            "\u001b[?25hDownloading gradio_client-1.8.0-py3-none-any.whl (322 kB)\n",
            "\u001b[2K   \u001b[90m━━━━━━━━━━━━━━━━━━━━━━━━━━━━━━━━━━━━━━━━\u001b[0m \u001b[32m322.2/322.2 kB\u001b[0m \u001b[31m19.8 MB/s\u001b[0m eta \u001b[36m0:00:00\u001b[0m\n",
            "\u001b[?25hDownloading aiofiles-23.2.1-py3-none-any.whl (15 kB)\n",
            "Downloading fastapi-0.115.12-py3-none-any.whl (95 kB)\n",
            "\u001b[2K   \u001b[90m━━━━━━━━━━━━━━━━━━━━━━━━━━━━━━━━━━━━━━━━\u001b[0m \u001b[32m95.2/95.2 kB\u001b[0m \u001b[31m6.6 MB/s\u001b[0m eta \u001b[36m0:00:00\u001b[0m\n",
            "\u001b[?25hDownloading groovy-0.1.2-py3-none-any.whl (14 kB)\n",
            "Downloading python_multipart-0.0.20-py3-none-any.whl (24 kB)\n",
            "Downloading ruff-0.11.2-py3-none-manylinux_2_17_x86_64.manylinux2014_x86_64.whl (11.3 MB)\n",
            "\u001b[2K   \u001b[90m━━━━━━━━━━━━━━━━━━━━━━━━━━━━━━━━━━━━━━━━\u001b[0m \u001b[32m11.3/11.3 MB\u001b[0m \u001b[31m99.4 MB/s\u001b[0m eta \u001b[36m0:00:00\u001b[0m\n",
            "\u001b[?25hDownloading safehttpx-0.1.6-py3-none-any.whl (8.7 kB)\n",
            "Downloading semantic_version-2.10.0-py2.py3-none-any.whl (15 kB)\n",
            "Downloading starlette-0.46.1-py3-none-any.whl (71 kB)\n",
            "\u001b[2K   \u001b[90m━━━━━━━━━━━━━━━━━━━━━━━━━━━━━━━━━━━━━━━━\u001b[0m \u001b[32m72.0/72.0 kB\u001b[0m \u001b[31m5.1 MB/s\u001b[0m eta \u001b[36m0:00:00\u001b[0m\n",
            "\u001b[?25hDownloading tomlkit-0.13.2-py3-none-any.whl (37 kB)\n",
            "Downloading uvicorn-0.34.0-py3-none-any.whl (62 kB)\n",
            "\u001b[2K   \u001b[90m━━━━━━━━━━━━━━━━━━━━━━━━━━━━━━━━━━━━━━━━\u001b[0m \u001b[32m62.3/62.3 kB\u001b[0m \u001b[31m4.5 MB/s\u001b[0m eta \u001b[36m0:00:00\u001b[0m\n",
            "\u001b[?25hDownloading ffmpy-0.5.0-py3-none-any.whl (6.0 kB)\n",
            "Downloading pydub-0.25.1-py2.py3-none-any.whl (32 kB)\n",
            "Installing collected packages: pydub, uvicorn, tomlkit, semantic-version, ruff, python-multipart, groovy, ffmpy, aiofiles, starlette, safehttpx, gradio-client, fastapi, gradio\n",
            "Successfully installed aiofiles-23.2.1 fastapi-0.115.12 ffmpy-0.5.0 gradio-5.23.0 gradio-client-1.8.0 groovy-0.1.2 pydub-0.25.1 python-multipart-0.0.20 ruff-0.11.2 safehttpx-0.1.6 semantic-version-2.10.0 starlette-0.46.1 tomlkit-0.13.2 uvicorn-0.34.0\n"
          ]
        }
      ]
    },
    {
      "cell_type": "markdown",
      "source": [
        "* How It Works?\n",
        "* Task Tracking\n",
        "\n",
        "* When an employee adds a task, it's stored in a task list\n",
        "\n",
        "* Each task has an actual completion time and a predicted completion time\n",
        "\n",
        "* The system compares both and displays a line graph\n",
        "\n",
        "* Live Updates\n",
        "\n",
        "* The graph updates automatically when new tasks are added\n",
        "\n",
        "* Employees can track their progress visually\n",
        "\n",
        "* Community Board\n",
        "\n",
        "* Team members can post live comments for discussion"
      ],
      "metadata": {
        "id": "tqaDgYZ_6Tci"
      }
    },
    {
      "cell_type": "markdown",
      "source": [
        "* How to Use It in Google Colab?\n",
        "* 1️⃣ Copy the Code and Run it in Google Colab\n",
        "* 2️⃣ Enter Task Details (Employee Name, Task, Status, etc.)\n",
        "* 3️⃣ Click \"View Task Timeline\" to see the graph\n",
        "* 4️⃣ Post Comments in the Live Chat Section"
      ],
      "metadata": {
        "id": "RTVT_0iH6hcb"
      }
    },
    {
      "cell_type": "markdown",
      "source": [
        "*  Why This is Useful?\n",
        "* ✅ No need for manual progress reports\n",
        "* ✅ Visual tracking of employee efficiency\n",
        "* ✅ Team collaboration in real-time"
      ],
      "metadata": {
        "id": "-VF-hLTv6vhW"
      }
    },
    {
      "cell_type": "code",
      "execution_count": 14,
      "metadata": {
        "colab": {
          "base_uri": "https://localhost:8080/",
          "height": 646
        },
        "id": "1AD7ni3guSw-",
        "outputId": "2a64fde4-c7f0-4a6f-8958-23d64e837740"
      },
      "outputs": [
        {
          "output_type": "stream",
          "name": "stdout",
          "text": [
            "Running Gradio in a Colab notebook requires sharing enabled. Automatically setting `share=True` (you can turn this off by setting `share=False` in `launch()` explicitly).\n",
            "\n",
            "Colab notebook detected. To show errors in colab notebook, set debug=True in launch()\n",
            "* Running on public URL: https://ee63ab74ad0290e02a.gradio.live\n",
            "\n",
            "This share link expires in 72 hours. For free permanent hosting and GPU upgrades, run `gradio deploy` from the terminal in the working directory to deploy to Hugging Face Spaces (https://huggingface.co/spaces)\n"
          ]
        },
        {
          "output_type": "display_data",
          "data": {
            "text/plain": [
              "<IPython.core.display.HTML object>"
            ],
            "text/html": [
              "<div><iframe src=\"https://ee63ab74ad0290e02a.gradio.live\" width=\"100%\" height=\"500\" allow=\"autoplay; camera; microphone; clipboard-read; clipboard-write;\" frameborder=\"0\" allowfullscreen></iframe></div>"
            ]
          },
          "metadata": {}
        },
        {
          "output_type": "execute_result",
          "data": {
            "text/plain": []
          },
          "metadata": {},
          "execution_count": 14
        }
      ],
      "source": [
        "import gradio as gr\n",
        "import matplotlib.pyplot as plt\n",
        "import time\n",
        "\n",
        "# Global Storage\n",
        "task_tree = {}\n",
        "comments = []\n",
        "\n",
        "# Function to Add Task Update\n",
        "def add_task(employee, task, status, actual_time, predicted_time):\n",
        "    global task_tree\n",
        "    task_id = f\"{employee}_{int(time.time())}\"  # Unique Task ID\n",
        "    task_tree[task_id] = {\n",
        "        \"Employee\": employee,\n",
        "        \"Task\": task,\n",
        "        \"Status\": status,\n",
        "        \"Actual Time\": actual_time,\n",
        "        \"Predicted Time\": predicted_time\n",
        "    }\n",
        "    return f\"Task '{task}' added by {employee} with status: {status}\"\n",
        "\n",
        "# Function to Plot Task Timeline\n",
        "def plot_task_timeline():\n",
        "    if not task_tree:\n",
        "        return \"No tasks available!\"\n",
        "\n",
        "    tasks = list(task_tree.keys())\n",
        "    actual_times = [task_tree[t][\"Actual Time\"] for t in tasks]\n",
        "    predicted_times = [task_tree[t][\"Predicted Time\"] for t in tasks]\n",
        "\n",
        "    fig, ax = plt.subplots(figsize=(8, 5))\n",
        "    ax.plot(tasks, actual_times, marker=\"o\", linestyle=\"-\", label=\"Actual Time\", color=\"b\")\n",
        "    ax.plot(tasks, predicted_times, marker=\"s\", linestyle=\"--\", label=\"Predicted Time\", color=\"r\")\n",
        "\n",
        "    ax.set_xlabel(\"Tasks\")\n",
        "    ax.set_ylabel(\"Time (Hours)\")\n",
        "    ax.set_title(\"Actual vs Predicted Task Timeline\")\n",
        "    ax.legend()\n",
        "    ax.grid(True)\n",
        "    plt.xticks(rotation=45, ha=\"right\")\n",
        "\n",
        "    return fig  # Returning figure object for Gradio Plot\n",
        "\n",
        "# Function to Add Comments\n",
        "def add_comment(user, comment):\n",
        "    global comments\n",
        "    comments.append(f\"{user}: {comment}\")\n",
        "    return \"Comment Added!\"\n",
        "\n",
        "# Function to View Comments\n",
        "def view_comments():\n",
        "    return \"\\n\".join(comments) if comments else \"No comments yet!\"\n",
        "\n",
        "# Gradio UI\n",
        "with gr.Blocks() as live_action_tracker:\n",
        "    gr.Markdown(\"## 🚀 Live-Action-Tracker Dashboard\")\n",
        "\n",
        "    with gr.Row():\n",
        "        with gr.Column():\n",
        "            gr.Markdown(\"### 🔹 Add Task Update\")\n",
        "            employee = gr.Textbox(label=\"Employee Name\")\n",
        "            task = gr.Textbox(label=\"Task Description\")\n",
        "            status = gr.Radio([\"Pending\", \"In Progress\", \"Completed\"], label=\"Task Status\")\n",
        "            actual_time = gr.Number(label=\"Actual Time (Hours)\")\n",
        "            predicted_time = gr.Number(label=\"Predicted Time (Hours)\")\n",
        "            add_task_btn = gr.Button(\"Submit Task\")\n",
        "            task_output = gr.Textbox(label=\"Task Submission Status\", interactive=False)\n",
        "\n",
        "        with gr.Column():\n",
        "            gr.Markdown(\"### 🔹 Live Comment Board\")\n",
        "            user = gr.Textbox(label=\"Your Name\")\n",
        "            comment = gr.Textbox(label=\"Write Comment\")\n",
        "            add_comment_btn = gr.Button(\"Add Comment\")\n",
        "            comment_output = gr.Textbox(label=\"Live Comments\", interactive=False)\n",
        "\n",
        "    with gr.Row():\n",
        "        task_view_btn = gr.Button(\"📊 View Task Timeline\")\n",
        "        task_view_output = gr.Plot(label=\"Task Timeline Graph\")  # Changed from gr.Image to gr.Plot\n",
        "\n",
        "        comment_view_btn = gr.Button(\"💬 View All Comments\")\n",
        "        comment_view_output = gr.Textbox(label=\"Community Board\", interactive=False)\n",
        "\n",
        "    # Button Actions\n",
        "    add_task_btn.click(add_task, inputs=[employee, task, status, actual_time, predicted_time], outputs=task_output)\n",
        "    task_view_btn.click(plot_task_timeline, outputs=task_view_output)\n",
        "    add_comment_btn.click(add_comment, inputs=[user, comment], outputs=comment_output)\n",
        "    comment_view_btn.click(view_comments, outputs=comment_view_output)\n",
        "\n",
        "# Run the Gradio App\n",
        "live_action_tracker.launch()\n"
      ]
    }
  ]
}